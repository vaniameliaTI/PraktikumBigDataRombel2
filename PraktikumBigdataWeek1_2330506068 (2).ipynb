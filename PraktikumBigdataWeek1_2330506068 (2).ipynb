{
 "cells": [
  {
   "cell_type": "markdown",
   "id": "10c25d6f",
   "metadata": {
    "id": "10c25d6f"
   },
   "source": [
    "# Hands-On Pertemuan 1: Pengenalan Big Data dan Overview Teknologi"
   ]
  },
  {
   "cell_type": "markdown",
   "id": "7117dfdb",
   "metadata": {
    "id": "7117dfdb"
   },
   "source": [
    "## Tujuan\n",
    "Pada akhir praktikum ini, mahasiswa diharapkan mampu:\n",
    "1. Memahami konsep dasar Big Data.\n",
    "2. Menjelaskan karakteristik dan tantangan Big Data (Volume, Variety, Velocity, dan Veracity).\n",
    "3. Mengenal teknologi yang digunakan dalam ekosistem Big Data.\n",
    "4. Menginstal dan mengonfigurasi Anaconda untuk bekerja dengan alat Big Data seperti Hadoop dan Spark.\n",
    "5. Memulai praktik sederhana terkait pengolahan data menggunakan PySpark dan Pandas."
   ]
  },
  {
   "cell_type": "markdown",
   "id": "7e805141",
   "metadata": {
    "id": "7e805141"
   },
   "source": [
    "## Peralatan yang Dibutuhkan\n",
    "1. Anaconda (untuk manajemen lingkungan)\n",
    "2. Jupyter Notebook (bawaan dari Anaconda)\n",
    "3. PySpark (untuk pemrosesan data skala besar)\n",
    "4. Pandas (untuk data analysis)\n",
    "5. Python (bawaan dari Anaconda)"
   ]
  },
  {
   "cell_type": "markdown",
   "id": "8daa78a0",
   "metadata": {
    "id": "8daa78a0"
   },
   "source": [
    "## Langkah-Langkah Hands-On"
   ]
  },
  {
   "cell_type": "markdown",
   "id": "23b963c0",
   "metadata": {
    "id": "23b963c0"
   },
   "source": [
    "### 1. Instalasi Anaconda\n",
    "- **Langkah 1: Unduh dan Instal Anaconda**\n",
    "  Anaconda adalah platform distribusi Python yang menyertakan berbagai alat pengembangan, termasuk Jupyter Notebook. Ikuti langkah-langkah instalasi sesuai sistem operasi:\n",
    "  - Unduh Anaconda: [Download Anaconda](https://www.anaconda.com/products/individual)\n",
    "  - Instal sesuai instruksi yang ada di situs web tersebut (Windows/Mac/Linux).\n",
    "\n",
    "- **Langkah 2: Menginstal PySpark di Anaconda**\n",
    "  Setelah Anaconda terinstal, tambahkan PySpark:\n",
    "  ```bash\n",
    "  pip install pyspark==3.4.1\n",
    "  ```\n",
    "\n",
    "- **Langkah 3: Menginstal Pandas**\n",
    "  Untuk memudahkan data analysis, install Pandas:\n",
    "  ```bash\n",
    "  pip install pandas\n",
    "  ``\n",
    "`\n",
    "\n",
    "- **Langkah 4: Menginstal Findspark**\n",
    "  ```bash\n",
    "  pip install findspark\n",
    "  `\n",
    "\n",
    "\n",
    "``"
   ]
  },
  {
   "cell_type": "markdown",
   "id": "208f1a45",
   "metadata": {
    "id": "208f1a45"
   },
   "source": [
    "### 2. Pengenalan dan Praktik Dasar PySpark dan Pandas\n",
    "- **Langkah 1: Membuka Jupyter Notebook**\n",
    "  Setelah instalasi selesai, buka Jupyter Notebook melalui Anaconda Navigator atau melalui terminal dengan perintah:\n",
    "  ```bash\n",
    "  jupyter notebook\n",
    "  ```\n",
    "  ![Screenshot](images/Screenshot2024-08-24_211604.png))\n",
    "  - Pada gambar diatas merupakan tampilan awal dari anacond\n",
    "  ![Screenshot](images/Screenshot_2024-08-26_231232.png)ng)\n",
    "  - Pada gambar diatas terdapat tampilan dari anaconda bagian evironment. Pada langkah ini kita menambahkan evironment dengan klik tanda plus di bawah kemudian masukan nama bebas sebagai contoh saya menggunakan nama \"PraktikumBigDataRombel2\" kemudian klik crea\n",
    "  ![Screenshot](images/Screenshot_2024-08-26_231823.png)png)\n",
    "  - Setelah klik create, kemudian lihat bagian chanel pada gambar di atas, kita dapat merubahnya ke All. Ini untuk mengecek apakah bahan bahan yang digunakan sudah terinstal apa belum. jika suda maka akan otomatis terdapat centang hijau pada bahan yang sudah terins\n",
    "  ![Screenshot](images/Screenshot_2024-08-26_232348.png).png)\n",
    "  - sebagai contoh bahan yang sudah terinstall seperti pada gambar di atas. Setelah itu kita dapat membuka jupiter note\n",
    "  ![Screenshot](images/Screenshot_2024-08-26_232617.png)7.png)\n",
    "  - dan menjalankan sesuai dengan modul yang sudah diberikan\r\n",
    "\r\n",
    "\r\n",
    "\n",
    "\n",
    "- **Langkah 2: Membuat Project Notebook Baru**\n",
    "  Di Jupyter Notebook, buat notebook baru untuk praktikum i\n",
    "  ni.\n",
    "\n",
    "- **Langkah 3: Praktik dengan PySpark**\n",
    "  Buat program sederhana untuk memulai dengan PySpark. Gunakan PySpark untuk membuat DataFrame dan memanipulasi data sederhana:"
   ]
  },
  {
   "cell_type": "code",
   "execution_count": 1,
   "id": "KERSZShIH_aN",
   "metadata": {
    "id": "KERSZShIH_aN"
   },
   "outputs": [],
   "source": [
    "import findspark\n",
    "findspark.init()"
   ]
  },
  {
   "cell_type": "code",
   "execution_count": 2,
   "id": "f78a5053",
   "metadata": {
    "id": "f78a5053"
   },
   "outputs": [
    {
     "name": "stdout",
     "output_type": "stream",
     "text": [
      "+-----+----+\n",
      "| Nama|Usia|\n",
      "+-----+----+\n",
      "|  Ali|  34|\n",
      "| Budi|  23|\n",
      "|Citra|  29|\n",
      "| Dina|  45|\n",
      "+-----+----+\n",
      "\n"
     ]
    }
   ],
   "source": [
    "from pyspark.sql import SparkSession\n",
    "\n",
    "# Memulai Spark session\n",
    "spark = SparkSession.builder.appName(\"BigDataPractice\").getOrCreate()\n",
    "\n",
    "# Membuat DataFrame sederhana\n",
    "data = [(\"Ali\", 34), (\"Budi\", 23), (\"Citra\", 29), (\"Dina\", 45)]\n",
    "columns = [\"Nama\", \"Usia\"]\n",
    "df = spark.createDataFrame(data, columns)\n",
    "\n",
    "# Menampilkan DataFrame\n",
    "df.show()\n"
   ]
  },
  {
   "cell_type": "markdown",
   "id": "8747276f",
   "metadata": {
    "id": "8747276f"
   },
   "source": [
    "- **Tugas 1**: Jalankan kode di atas dan buat modifikasi dengan menambahkan data lain berupa kolom pekerjaan, hobi dan gender."
   ]
  },
  {
   "cell_type": "code",
   "execution_count": 3,
   "id": "90317e79-4fab-44a7-99a3-a06c5f83c39d",
   "metadata": {},
   "outputs": [
    {
     "name": "stdout",
     "output_type": "stream",
     "text": [
      "+-----+----+-----------+-------+------+\n",
      "| Nama|Usia|  Pekerjaan|   Hobi|Gender|\n",
      "+-----+----+-----------+-------+------+\n",
      "|  Ali|  34|   Pedagang| Jualan|     L|\n",
      "| Budi|  23|Data Analis|Ngoding|     L|\n",
      "|Citra|  29|        CEO|Memasak|     P|\n",
      "| Dina|  45|       Guru|Menulis|     P|\n",
      "+-----+----+-----------+-------+------+\n",
      "\n"
     ]
    }
   ],
   "source": [
    "from pyspark.sql import SparkSession\n",
    "\n",
    "# Memulai Spark session\n",
    "spark = SparkSession.builder.appName(\"BigDataPractice\").getOrCreate()\n",
    "\n",
    "# Membuat DataFrame sederhana\n",
    "data = [(\"Ali\", 34, \"Pedagang\",\"Jualan\", \"L\"), (\"Budi\", 23, \"Data Analis\", \"Ngoding\", \"L\"), (\"Citra\", 29, \"CEO\", \"Memasak\", \"P\"), (\"Dina\", 45, \"Guru\", \"Menulis\", \"P\")]\n",
    "columns = [\"Nama\", \"Usia\", \"Pekerjaan\", \"Hobi\", \"Gender\"]\n",
    "df = spark.createDataFrame(data, columns)\n",
    "\n",
    "# Menampilkan DataFrame\n",
    "df.show()\n"
   ]
  },
  {
   "cell_type": "markdown",
   "id": "de1b70ea-815a-413a-a22e-1a6e9a233ba4",
   "metadata": {},
   "source": [
    "# Penjelasan Kode Tugas 1\n",
    "- import sparksession dari pustaka pyspark.sql.sparksession adalah entri utama untuk menggunakan API DataFrame dan SQL di Apache Spark.\n",
    "- Sparksession.buidel digunakan untuk mengkonfigutasi dan membuat instace SparkSession.\n",
    "- appName(\"BigDataPractice\"): Menetapkan nama aplikasi sebagai \"BigDataPractice\". nama ini berguna untuk melacak aplikasi Spark di cluster.\n",
    "- getOrCreate() membuat instace SparkSession baru jika belum ada, atau mengembalikan instace yang sudah ada jika sudah ada sebelumnya. ini memastikan bahwa ada satu sesi Spark aktif yang digunakan.\n",
    "- pada membuat data frame ini mendefinisikan data sebagai list of tuples dan kolom sebagai list nama kolom. membuat DataFrame df fari data dan kolom yang ditentukan.\n",
    "- df.show() untuk menampilkan isi DataFrame df dalam format tabel di konsol."
   ]
  },
  {
   "cell_type": "markdown",
   "id": "1f84a333",
   "metadata": {
    "id": "1f84a333"
   },
   "source": [
    "### 3. Praktik PySpark Lanjutan\n",
    "- **Latihan 1**: Memanipulasi Data dengan PySpark."
   ]
  },
  {
   "cell_type": "code",
   "execution_count": 4,
   "id": "1f391ed5",
   "metadata": {
    "id": "1f391ed5"
   },
   "outputs": [
    {
     "name": "stdout",
     "output_type": "stream",
     "text": [
      "+-----+----+\n",
      "| Nama|Usia|\n",
      "+-----+----+\n",
      "|  Ali|  34|\n",
      "| Budi|  23|\n",
      "|Citra|  29|\n",
      "| Dina|  45|\n",
      "+-----+----+\n",
      "\n",
      "+----+----+\n",
      "|Nama|Usia|\n",
      "+----+----+\n",
      "| Ali|  34|\n",
      "|Dina|  45|\n",
      "+----+----+\n",
      "\n",
      "+---------+\n",
      "|avg(Usia)|\n",
      "+---------+\n",
      "|    32.75|\n",
      "+---------+\n",
      "\n",
      "+-----+----+\n",
      "| Nama|Usia|\n",
      "+-----+----+\n",
      "| Budi|  23|\n",
      "|Citra|  29|\n",
      "|  Ali|  34|\n",
      "| Dina|  45|\n",
      "+-----+----+\n",
      "\n"
     ]
    }
   ],
   "source": [
    "from pyspark.sql import SparkSession\n",
    "\n",
    "# Memulai Spark session\n",
    "spark = SparkSession.builder.appName(\"BigDataPractice\").getOrCreate()\n",
    "\n",
    "# Membuat DataFrame sederhana\n",
    "data = [(\"Ali\", 34), (\"Budi\", 23), (\"Citra\", 29), (\"Dina\", 45)]\n",
    "columns = [\"Nama\", \"Usia\"]\n",
    "df = spark.createDataFrame(data, columns)\n",
    "\n",
    "# Menampilkan DataFrame\n",
    "df.show()\n",
    "\n",
    "# Filtering data\n",
    "df_filtered = df.filter(df['Usia'] > 30)\n",
    "df_filtered.show()\n",
    "\n",
    "# Menghitung rata-rata usia\n",
    "from pyspark.sql.functions import avg\n",
    "df.groupBy().agg(avg(\"Usia\")).show()\n",
    "\n",
    "# Mengurutkan data berdasarkan usia\n",
    "df_sorted = df.orderBy(\"Usia\", ascending=True)\n",
    "df_sorted.show()\n"
   ]
  },
  {
   "cell_type": "markdown",
   "id": "e06767bc",
   "metadata": {
    "id": "e06767bc"
   },
   "source": [
    "- **Tugas 2**: Lakukan filter, penghitungan rata-rata, dan pengurutan data menggunakan PySpark."
   ]
  },
  {
   "cell_type": "code",
   "execution_count": 5,
   "id": "4fa33036-7299-4a25-9a87-245790a092d8",
   "metadata": {},
   "outputs": [
    {
     "name": "stdout",
     "output_type": "stream",
     "text": [
      "+-----+----+---------+\n",
      "| Nama|Usia|Pekerjaan|\n",
      "+-----+----+---------+\n",
      "| Nira|  22|  Masinis|\n",
      "|  Ade|  23|Programer|\n",
      "|Vania|  18| Desainer|\n",
      "|  Nia|  20|Pengusaha|\n",
      "+-----+----+---------+\n",
      "\n",
      "+----+----+---------+\n",
      "|Nama|Usia|Pekerjaan|\n",
      "+----+----+---------+\n",
      "|Nira|  22|  Masinis|\n",
      "| Ade|  23|Programer|\n",
      "| Nia|  20|Pengusaha|\n",
      "+----+----+---------+\n",
      "\n",
      "+---------+\n",
      "|avg(Usia)|\n",
      "+---------+\n",
      "|    20.75|\n",
      "+---------+\n",
      "\n",
      "+-----+----+---------+\n",
      "| Nama|Usia|Pekerjaan|\n",
      "+-----+----+---------+\n",
      "|Vania|  18| Desainer|\n",
      "|  Nia|  20|Pengusaha|\n",
      "| Nira|  22|  Masinis|\n",
      "|  Ade|  23|Programer|\n",
      "+-----+----+---------+\n",
      "\n"
     ]
    }
   ],
   "source": [
    "from pyspark.sql import SparkSession\n",
    "\n",
    "# Memulai Spark session\n",
    "spark = SparkSession.builder.appName(\"BigDataPractice\").getOrCreate()\n",
    "\n",
    "# Membuat DataFrame sederhana\n",
    "# Membuat DataFrame sederhana\n",
    "data = [(\"Nira\", 22, \"Masinis\"), (\"Ade\", 23, \"Programer\"), (\"Vania\", 18, \"Desainer\"), (\"Nia\", 20, \"Pengusaha\")]\n",
    "columns = [\"Nama\", \"Usia\", \"Pekerjaan\"]\n",
    "df = spark.createDataFrame(data, columns)\n",
    "\n",
    "\n",
    "# Menampilkan DataFrame\n",
    "df.show()\n",
    "\n",
    "# Filtering data\n",
    "df_filtered = df.filter(df['Usia'] > 18)\n",
    "df_filtered.show()\n",
    "\n",
    "# Menghitung rata-rata usia\n",
    "from pyspark.sql.functions import avg\n",
    "df.groupBy().agg(avg(\"Usia\")).show()\n",
    "\n",
    "# Mengurutkan data berdasarkan usia\n",
    "df_sorted = df.orderBy(\"Usia\", ascending=True)\n",
    "df_sorted.show()"
   ]
  },
  {
   "cell_type": "markdown",
   "id": "54333522-4f39-4068-ab0b-cbd960deb576",
   "metadata": {},
   "source": [
    "# Penjelasan Kode Tugas 2\n",
    "- membuat atau mendapatkan sesi Spark dengan nama \"BigDataPractice\".\n",
    "- membuat data frame mendefinisikan data sebagai list of tuples dan kolom sebagai list nama kolom. membuat DataFrame df dari data dan kolom yang ditentukan.\n",
    "- df.show untuk menampilkan isi DataFrame df di konsol\n",
    "- kemudian pada filtering data menyaring baris di dataframe df di mana usia lebih dari 18 dan menyimpanya dalam df_filtered. kemudian ditampilkan dengan df_filtered.show()\n",
    "- menghitung rata-rata usia dari dataframe df menggunakan fungsi avg dan menampilkanya.\n",
    "- mengurutkan dataframe df berdasarkan usia secara ascending dan menyimpanya dalam df_sorted. kemudian ditampilkan dengan df_sorted.show"
   ]
  },
  {
   "cell_type": "markdown",
   "id": "fe1e34a5",
   "metadata": {
    "id": "fe1e34a5"
   },
   "source": [
    "### 4. Praktik dengan Pandas\n",
    "- **Latihan 2**:  Buat DataFrame menggunakan Pandas:"
   ]
  },
  {
   "cell_type": "code",
   "execution_count": 6,
   "id": "3f1f2ec1",
   "metadata": {
    "id": "3f1f2ec1"
   },
   "outputs": [
    {
     "data": {
      "text/html": [
       "<div>\n",
       "<style scoped>\n",
       "    .dataframe tbody tr th:only-of-type {\n",
       "        vertical-align: middle;\n",
       "    }\n",
       "\n",
       "    .dataframe tbody tr th {\n",
       "        vertical-align: top;\n",
       "    }\n",
       "\n",
       "    .dataframe thead th {\n",
       "        text-align: right;\n",
       "    }\n",
       "</style>\n",
       "<table border=\"1\" class=\"dataframe\">\n",
       "  <thead>\n",
       "    <tr style=\"text-align: right;\">\n",
       "      <th></th>\n",
       "      <th>Nama</th>\n",
       "      <th>Usia</th>\n",
       "    </tr>\n",
       "  </thead>\n",
       "  <tbody>\n",
       "    <tr>\n",
       "      <th>0</th>\n",
       "      <td>Ali</td>\n",
       "      <td>34</td>\n",
       "    </tr>\n",
       "    <tr>\n",
       "      <th>1</th>\n",
       "      <td>Budi</td>\n",
       "      <td>23</td>\n",
       "    </tr>\n",
       "    <tr>\n",
       "      <th>2</th>\n",
       "      <td>Citra</td>\n",
       "      <td>29</td>\n",
       "    </tr>\n",
       "    <tr>\n",
       "      <th>3</th>\n",
       "      <td>Dina</td>\n",
       "      <td>45</td>\n",
       "    </tr>\n",
       "  </tbody>\n",
       "</table>\n",
       "</div>"
      ],
      "text/plain": [
       "    Nama  Usia\n",
       "0    Ali    34\n",
       "1   Budi    23\n",
       "2  Citra    29\n",
       "3   Dina    45"
      ]
     },
     "execution_count": 6,
     "metadata": {},
     "output_type": "execute_result"
    }
   ],
   "source": [
    "import pandas as pd\n",
    "\n",
    "# Membuat DataFrame Pandas\n",
    "data_pandas = {\"Nama\": [\"Ali\", \"Budi\", \"Citra\", \"Dina\"], \"Usia\": [34, 23, 29, 45]}\n",
    "df_pandas = pd.DataFrame(data_pandas)\n",
    "\n",
    "# Menampilkan DataFrame Pandas\n",
    "df_pandas"
   ]
  },
  {
   "cell_type": "markdown",
   "id": "9da455f1",
   "metadata": {
    "id": "9da455f1"
   },
   "source": [
    "- **Tugas 3**: Modifikasi DataFrame Pandas dengan menambahkan kolom baru dan melakukan operasi seperti filtering data berdasarkan usia."
   ]
  },
  {
   "cell_type": "code",
   "execution_count": 7,
   "id": "14f37a27-1322-4a80-bea6-fc09468a0133",
   "metadata": {},
   "outputs": [
    {
     "data": {
      "text/html": [
       "<div>\n",
       "<style scoped>\n",
       "    .dataframe tbody tr th:only-of-type {\n",
       "        vertical-align: middle;\n",
       "    }\n",
       "\n",
       "    .dataframe tbody tr th {\n",
       "        vertical-align: top;\n",
       "    }\n",
       "\n",
       "    .dataframe thead th {\n",
       "        text-align: right;\n",
       "    }\n",
       "</style>\n",
       "<table border=\"1\" class=\"dataframe\">\n",
       "  <thead>\n",
       "    <tr style=\"text-align: right;\">\n",
       "      <th></th>\n",
       "      <th>Nama</th>\n",
       "      <th>Usia</th>\n",
       "      <th>Pekerjaan</th>\n",
       "    </tr>\n",
       "  </thead>\n",
       "  <tbody>\n",
       "    <tr>\n",
       "      <th>0</th>\n",
       "      <td>Ali</td>\n",
       "      <td>34</td>\n",
       "      <td>Pedagang</td>\n",
       "    </tr>\n",
       "    <tr>\n",
       "      <th>1</th>\n",
       "      <td>Budi</td>\n",
       "      <td>23</td>\n",
       "      <td>Data Analis</td>\n",
       "    </tr>\n",
       "    <tr>\n",
       "      <th>2</th>\n",
       "      <td>Citra</td>\n",
       "      <td>29</td>\n",
       "      <td>CEO</td>\n",
       "    </tr>\n",
       "  </tbody>\n",
       "</table>\n",
       "</div>"
      ],
      "text/plain": [
       "    Nama  Usia    Pekerjaan\n",
       "0    Ali    34     Pedagang\n",
       "1   Budi    23  Data Analis\n",
       "2  Citra    29          CEO"
      ]
     },
     "execution_count": 7,
     "metadata": {},
     "output_type": "execute_result"
    }
   ],
   "source": [
    "import pandas as pd\n",
    "\n",
    "# Membuat DataFrame Pandas\n",
    "data_pandas = {\"Nama\": [\"Ali\", \"Budi\", \"Citra\", \"Dina\"], \"Usia\": [34, 23, 29, 45], \"Pekerjaan\": [\"Pedagang\", \"Data Analis\", \"CEO\", \"Guru\"]}\n",
    "df_pandas = pd.DataFrame(data_pandas)\n",
    "\n",
    "# Menampilkan DataFrame Pandas\n",
    "df_pandas = pd.DataFrame(data_pandas)\n",
    "\n",
    "# Memfilter Dataframe dari dictonary\n",
    "df_filtered = df_pandas[df_pandas[\"Usia\"] < 40]\n",
    "\n",
    "# Menampilkan DataFrame yang telah difilter\n",
    "df_filtered"
   ]
  },
  {
   "cell_type": "markdown",
   "id": "894161d5-8c1e-4ae6-b137-abf404a179ed",
   "metadata": {},
   "source": [
    "# Penjelasan Kode Tugas 3\n",
    "- mengimpor pustaka pandas dan memberi alias pd\n",
    "- kemudian membuat dataframe pandas dengan mendefinisikan data sebagai dictionary dengan kunci \"Nama\", \"Usia\", dan \"Pekerjaan\". Mebuat DataFrame df_pandas dari dictionary tersebut.\n",
    "- memfilter baris di DataFrame df_pandas di mana nilai di kolom \"Usia\" Kurang dari 40. Kemudian menyimpan hasil filter dalam df_filtered.\n",
    "- kemudian menampilkan isi DataFrame df_filtered yang hanya berisi baris dengan usia kurang dari 40."
   ]
  },
  {
   "cell_type": "markdown",
   "id": "c0042b2b",
   "metadata": {
    "id": "c0042b2b"
   },
   "source": [
    "### 5. Praktik Pandas Lanjutan\n",
    "- **Latihan 3**: Penggunaan Pandas untuk operasi lebih kompleks."
   ]
  },
  {
   "cell_type": "code",
   "execution_count": 8,
   "id": "e7a8142f",
   "metadata": {
    "id": "e7a8142f"
   },
   "outputs": [
    {
     "name": "stdout",
     "output_type": "stream",
     "text": [
      "    Nama  Usia Pekerjaan\n",
      "0    Ali    34    Dokter\n",
      "1   Budi    23      Guru\n",
      "2  Citra    29  Insinyur\n",
      "3   Dina    45   Perawat\n",
      "            Usia\n",
      "count   4.000000\n",
      "mean   32.750000\n",
      "std     9.322911\n",
      "min    23.000000\n",
      "25%    27.500000\n",
      "50%    31.500000\n",
      "75%    36.750000\n",
      "max    45.000000\n"
     ]
    },
    {
     "data": {
      "image/png": "[encoded data removed]",
      "text/plain": [
       "<Figure size 640x480 with 1 Axes>"
      ]
     },
     "metadata": {},
     "output_type": "display_data"
    }
   ],
   "source": [
    "import pandas as pd\n",
    "\n",
    "# Membuat DataFrame Pandas\n",
    "data_pandas = {\"Nama\": [\"Ali\", \"Budi\", \"Citra\", \"Dina\"], \"Usia\": [34, 23, 29, 45]}\n",
    "df_pandas = pd.DataFrame(data_pandas)\n",
    "\n",
    "# Membuat DataFrame kedua\n",
    "data_pandas_2 = {\"Nama\": [\"Ali\", \"Budi\", \"Citra\", \"Dina\"], \"Pekerjaan\": [\"Dokter\", \"Guru\", \"Insinyur\", \"Perawat\"]}\n",
    "df_pandas_2 = pd.DataFrame(data_pandas_2)\n",
    "\n",
    "# Join antara dua DataFrame\n",
    "df_joined = pd.merge(df_pandas, df_pandas_2, on=\"Nama\")\n",
    "print(df_joined)\n",
    "\n",
    "# Menghitung statistik deskriptif\n",
    "print(df_pandas.describe())\n",
    "\n",
    "# Plotting Data\n",
    "import matplotlib.pyplot as plt\n",
    "df_pandas['Usia'].plot(kind='bar')\n",
    "plt.show()\n"
   ]
  },
  {
   "cell_type": "markdown",
   "id": "884ed75d",
   "metadata": {
    "id": "884ed75d"
   },
   "source": [
    "- **Tugas 4**: Lakukan penggabungan DataFrame dan visualisasikan data dengan Pandas."
   ]
  },
  {
   "cell_type": "code",
   "execution_count": 9,
   "id": "c524eecf-32d5-4833-8568-183e2e88ea34",
   "metadata": {},
   "outputs": [
    {
     "name": "stdout",
     "output_type": "stream",
     "text": [
      "DataFrame yang digabungkan:\n",
      "    Nama  Usia  Pekerjaan\n",
      "0   Nira    20  Programer\n",
      "1  Vania    18   Desainer\n",
      "2    Ade    32    Seniman\n",
      "3    Nia    23  Pengusaha\n"
     ]
    },
    {
     "data": {
      "image/png": "[encoded data removed]",
      "text/plain": [
       "<Figure size 1000x600 with 1 Axes>"
      ]
     },
     "metadata": {},
     "output_type": "display_data"
    }
   ],
   "source": [
    "import pandas as pd\n",
    "import matplotlib.pyplot as plt\n",
    "\n",
    "# DataFrame pertama\n",
    "data_pandas= {\"Nama\": [\"Nira\", \"Vania\", \"Ade\", \"Nia\"], \"Usia\": [20, 18, 32, 23]}\n",
    "df_pandas = pd.DataFrame(data_pandas)\n",
    "\n",
    "# DataFrame kedua\n",
    "data_pandas_2 = {\"Nama\": [\"Nira\", \"Vania\", \"Ade\", \"Nia\"], \"Pekerjaan\": [\"Programer\", \"Desainer\", \"Seniman\", \"Pengusaha\"]}\n",
    "df_pandas_2 = pd.DataFrame(data_pandas_2)\n",
    "\n",
    "# Menggabungkan DataFrame\n",
    "df_combined = pd.merge(df_pandas, df_pandas_2, on=\"Nama\")\n",
    "\n",
    "# Menampilkan DataFrame yang telah digabungkan\n",
    "print(\"DataFrame yang digabungkan:\")\n",
    "print(df_combined)\n",
    "\n",
    "\n",
    "# Plotting Data\n",
    "plt.figure(figsize=(10, 6)) #Ukuran tabel\n",
    "df_combined['Usia'].plot(kind='bar',x='Nama', y='Usia', color='Black')\n",
    "plt.xlabel('Nama')\n",
    "plt.ylabel('Usia')\n",
    "plt.xticks(rotation=0)  # Memutar label x agar lebih mudah dibaca\n",
    "plt.title('Distribusi Usia Berdasarkan Nama') #Judul Tabel\n",
    "plt.show()\n"
   ]
  },
  {
   "cell_type": "markdown",
   "id": "be219888-72dd-4c28-a2ee-41bb12799c7a",
   "metadata": {},
   "source": [
    "# Penjelasan Kode Tugas 4\n",
    "- mengimpor pustaka pandas (pd) untuk menipulasi data dan Matplotlib (ptl) untuk visualisasi.\n",
    "- membuat DataFrame df1 dengan kolom Nama dan Usia.\n",
    "- membuat DataFrame df2 dengan kolom Nama dan Pekerjaan.\n",
    "- Menggabungkan df1 dan df2 berdasarkan kolom Nama. Hasilnya adalah Dataframe df_combined yang menggabungkan kolom-kolom dari kedua DataFrame.\n",
    "- menampilkna DataFrame df_combined ke konsol dengan fungsi print\n",
    "- plt.figture(figsize=(10,6)) menetapkan ukuran plot\n",
    "- df_combined[Usia].plot(kind= 'bar', x='Nama', y='Usia', color='Black)' ini membuat diagram berdasarkan dataFrame df_combined dengan usia pada sumbu Y dan nama pada Sumbu X.\n",
    "- plt.xlabel, plt.ylabel, plt.xticks(rotation=0), plt.title: menambhakan label sumbu X dan Y, memutar label sumbu X agar lebih mudah dibaca, dan menambhakan judul ke plot."
   ]
  },
  {
   "cell_type": "markdown",
   "id": "b1e4a2b7-34b2-4db4-80b0-098b37848bf3",
   "metadata": {},
   "source": [
    "# Langkah Selanjutnya\n",
    "sebelum lanjut ke kode program selanjutnya, kita dapat menginstall Matplotlib dengan versi 3.7.1\n",
    "  ```bash\n",
    "  pip install matplotlib==3.7.1\n",
    "  ```\n"
   ]
  },
  {
   "cell_type": "markdown",
   "id": "bf671ba3",
   "metadata": {
    "id": "bf671ba3"
   },
   "source": [
    "### 5. Menggabungkan PySpark dan Pandas\n",
    "- **Latihan 4: Mengonversi DataFrame antara PySpark dan Pandas**\n",
    "  Praktik untuk convert DataFrame dari PySpark ke Pandas dan sebaliknya:\n"
   ]
  },
  {
   "cell_type": "code",
   "execution_count": 10,
   "id": "337e123f",
   "metadata": {
    "id": "337e123f"
   },
   "outputs": [
    {
     "name": "stdout",
     "output_type": "stream",
     "text": [
      "+-----+----+\n",
      "| Nama|Usia|\n",
      "+-----+----+\n",
      "| Nira|  20|\n",
      "|Vania|  18|\n",
      "|  Ade|  32|\n",
      "|  Nia|  23|\n",
      "+-----+----+\n",
      "\n"
     ]
    },
    {
     "data": {
      "text/plain": [
       "(    Nama  Usia  Pekerjaan\n",
       " 0   Nira    22    Masinis\n",
       " 1    Ade    23  Programer\n",
       " 2  Vania    18   Desainer\n",
       " 3    Nia    20  Pengusaha,\n",
       " None)"
      ]
     },
     "execution_count": 10,
     "metadata": {},
     "output_type": "execute_result"
    }
   ],
   "source": [
    "# Mengonversi DataFrame dari PySpark ke Pandas\n",
    "df_pandas_from_spark = df.toPandas()\n",
    "\n",
    "# Mengonversi DataFrame dari Pandas ke PySpark\n",
    "df_spark_from_pandas = spark.createDataFrame(df_pandas)\n",
    "\n",
    "# Menampilkan DataFrame hasil konversi\n",
    "df_pandas_from_spark, df_spark_from_pandas.show()"
   ]
  },
  {
   "cell_type": "code",
   "execution_count": 11,
   "id": "1c576d29-2a96-4698-9293-746625e7bd0b",
   "metadata": {},
   "outputs": [
    {
     "name": "stdout",
     "output_type": "stream",
     "text": [
      "+-----+----+\n",
      "| Nama|Usia|\n",
      "+-----+----+\n",
      "| Nira|  20|\n",
      "|Vania|  18|\n",
      "|  Ade|  32|\n",
      "|  Nia|  23|\n",
      "+-----+----+\n",
      "\n",
      "Rata-rata usia : 23.25\n"
     ]
    }
   ],
   "source": [
    "# Mengonversi DataFrame dari PySpark ke Pandas\n",
    "df_pandas_from_spark = df.toPandas()\n",
    "\n",
    "# Mengonversi DataFrame dari Pandas ke PySpark\n",
    "df_spark_from_pandas = spark.createDataFrame(df_pandas)\n",
    "\n",
    "# Menampilkan DataFrame hasil konversi\n",
    "df_pandas_from_spark, df_spark_from_pandas.show()\n",
    "\n",
    "#Menghitung rata-rata\n",
    "rata_rata_usia = df_pandas[\"Usia\"].mean()\n",
    "print(f\"Rata-rata usia : {rata_rata_usia}\")"
   ]
  },
  {
   "cell_type": "markdown",
   "id": "48618b77-bb5d-4420-8d07-ef35b4529d43",
   "metadata": {},
   "source": [
    "# Penjelasan Kode Program Tugas 5\n",
    "- df_pandas_from_spark = df.toPandas()\n",
    "Ini mengubah DataFrame PySpark (df) menjadi DataFrame Pandas (df_pandas_from_spark) agar dapat diolah menggunakan fitur-fitur Pandas.\n",
    "- df_spark_from_pandas = spark.createDataFrame(df_pandas)\n",
    "DataFrame Pandas (df_pandas) dikonversi kembali ke PySpark (df_spark_from_pandas) agar bisa digunakan di PySpark.\n",
    "- df_pandas_from_spark, df_spark_from_pandas.show()\n",
    "Baris ini mencoba menampilkan DataFrame Pandas dan PySpark. Namun, df_spark_from_pandas.show() hanya berlaku untuk DataFrame PySpark. Harus dipisah antara tampilan Pandas (print(df_pandas_from_spark.head())) dan PySpark (df_spark_from_pandas.show()).\n",
    "- rata_rata_usia = df_pandas[\"Usia\"].mean()\n",
    "Ini menghitung rata-rata nilai dari kolom \"Usia\" pada DataFrame Pandas (df_pandas).\n",
    "- print(f\"Rata-rata usia : {rata_rata_usia}\")\n",
    "Menampilkan rata-rata usia yang telah dihitung.\n"
   ]
  },
  {
   "cell_type": "markdown",
   "id": "2cba4e5c",
   "metadata": {
    "id": "2cba4e5c"
   },
   "source": [
    "- **Tugas 5**: Gunakan metode ini untuk menggabungkan data yang Anda buat di PySpark dengan data dari Pandas, kemudian lakukan analisis sederhana seperti menghitung rata-rata usia."
   ]
  },
  {
   "cell_type": "markdown",
   "id": "afdba6be",
   "metadata": {
    "id": "afdba6be"
   },
   "source": [
    "### 6. Konversi Data antara PySpark dan Pandas"
   ]
  },
  {
   "cell_type": "code",
   "execution_count": 12,
   "id": "f863defc",
   "metadata": {
    "id": "f863defc"
   },
   "outputs": [
    {
     "name": "stdout",
     "output_type": "stream",
     "text": [
      "+-----+----+\n",
      "| Nama|Usia|\n",
      "+-----+----+\n",
      "| Nira|  20|\n",
      "|Vania|  18|\n",
      "|  Ade|  32|\n",
      "|  Nia|  23|\n",
      "+-----+----+\n",
      "\n"
     ]
    },
    {
     "data": {
      "text/plain": [
       "(    Nama  Usia  Pekerjaan\n",
       " 0   Nira    22    Masinis\n",
       " 1    Ade    23  Programer\n",
       " 2  Vania    18   Desainer\n",
       " 3    Nia    20  Pengusaha,\n",
       " None)"
      ]
     },
     "execution_count": 12,
     "metadata": {},
     "output_type": "execute_result"
    }
   ],
   "source": [
    "# Mengonversi DataFrame dari PySpark ke Pandas\n",
    "df_pandas_from_spark = df.toPandas()\n",
    "\n",
    "# Mengonversi DataFrame dari Pandas ke PySpark\n",
    "df_spark_from_pandas = spark.createDataFrame(df_pandas)\n",
    "\n",
    "# Menampilkan DataFrame hasil konversi\n",
    "df_pandas_from_spark, df_spark_from_pandas.show()\n"
   ]
  },
  {
   "cell_type": "markdown",
   "id": "65adbe71",
   "metadata": {
    "id": "65adbe71"
   },
   "source": [
    "- **Tugas 6**: Gabungkan data dari PySpark dan Pandas, lalu lakukan operasi statistik seperti menghitung nilai maksimum usia."
   ]
  },
  {
   "cell_type": "code",
   "execution_count": 13,
   "id": "e5fcb119-ba0d-409d-9d4a-64064b30e7fb",
   "metadata": {},
   "outputs": [
    {
     "name": "stdout",
     "output_type": "stream",
     "text": [
      "+-----+----+\n",
      "| Nama|Usia|\n",
      "+-----+----+\n",
      "| Nira|  20|\n",
      "|Vania|  18|\n",
      "|  Ade|  32|\n",
      "|  Nia|  23|\n",
      "+-----+----+\n",
      "\n",
      "Nilai maksimum usia: 32\n"
     ]
    }
   ],
   "source": [
    "# Mengonversi DataFrame dari PySpark ke Pandas\n",
    "df_pandas_from_spark = df.toPandas()\n",
    "\n",
    "# Mengonversi DataFrame dari Pandas ke PySpark\n",
    "df_spark_from_pandas = spark.createDataFrame(df_pandas)\n",
    "\n",
    "# Menampilkan DataFrame hasil konversi\n",
    "df_pandas_from_spark, df_spark_from_pandas.show()\n",
    "\n",
    "# Menghitung nilai maksimum usia di Pandas\n",
    "nilai_maksimum_usia = df_pandas[\"Usia\"].max()\n",
    "print(f\"Nilai maksimum usia: {nilai_maksimum_usia}\")"
   ]
  },
  {
   "cell_type": "markdown",
   "id": "e2dd3006-7d3f-4281-8f09-78dcb2b3c472",
   "metadata": {},
   "source": [
    "# Penjelasan Kode Program Tugas 6\n",
    "- Mengonversikan DataFrame PySpark ke Pandas 'df_pandas_from_spark = df.toPandas()' Ini mengubah DataFrame PySpark (df) menjadi DataFrame Pandas (df_pandas_from_spark) agar bisa diolah menggunakan fitur Pandas yang lebih luas.\n",
    "- Mengonversi DataFrame Pandas ke PySpark\n",
    "df_spark_from_pandas = spark.createDataFrame(df_pandas_from_spark)\n",
    "DataFrame Pandas (df_pandas_from_spark) dikonversi kembali ke PySpark (df_spark_from_pandas) agar bisa digunakan di lingkungan PySpark.\n",
    "- print(df_pandas_from_spark.head()) menampilkan beberapa baris pertama dari DataFrame Pandas. df_spark_from_pandas.show() menampilkan DataFrame PySpark yang sudah dikonversi.\n",
    "- nilai_maksimum_usia = df_pandas_from_spark[\"Usia\"].max()\n",
    "Ini menghitung nilai maksimum dari kolom \"Usia\" di DataFrame Pandas.\n",
    "- print(f\"Nilai maksimum usia: {nilai_maksimum_usia}\")\n",
    "Menampilkan nilai maksimum dari kolom \"Usia\" yang telah dihitung.\n"
   ]
  }
 ],
 "metadata": {
  "colab": {
   "provenance": []
  },
  "kernelspec": {
   "display_name": "Python 3 (ipykernel)",
   "language": "python",
   "name": "python3"
  },
  "language_info": {
   "codemirror_mode": {
    "name": "ipython",
    "version": 3
   },
   "file_extension": ".py",
   "mimetype": "text/x-python",
   "name": "python",
   "nbconvert_exporter": "python",
   "pygments_lexer": "ipython3",
   "version": "3.11.9"
  }
 },
 "nbformat": 4,
 "nbformat_minor": 5
}
